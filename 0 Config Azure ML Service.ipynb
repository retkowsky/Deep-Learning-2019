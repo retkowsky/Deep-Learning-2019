{
  "cells": [
    {
      "metadata": {},
      "cell_type": "markdown",
      "source": "# 0. Configuration Azure ML Service\nThis notebook configures your library of notebooks to connect to an Azure Machine Learning Workspace. <br> In this case, a library contains all of the notebooks in the current folder and any nested folders.  You can configure this notebook to use an existing workspace or create a new workspace.\n\n## What is an Azure ML Workspace and why do I need one?\n\nAn AML Workspace is an Azure resource that organizes and coordinates the actions of many other Azure resources to assist in executing and sharing machine learning workflows. <br>\nIn particular, an AML Workspace coordinates storage, databases, and compute resources providing added functionality for machine learning experimentation, operationalization, and the monitoring of operationalized models."
    },
    {
      "metadata": {},
      "cell_type": "markdown",
      "source": "# I. Prérequis"
    },
    {
      "metadata": {},
      "cell_type": "markdown",
      "source": "## 1. Souscription Azure\n\nIn order to create an AML Workspace, first you need access to an Azure Subscription.  You can [create your own](https://azure.microsoft.com/en-us/free/) or get your existing subscription information from the [Azure portal](https://portal.azure.com).\n\n## 2. Installation Azure ML service SDK\n\nIf you are running in your own environment, follow [SDK installation instructions](https://docs.microsoft.com/azure/machine-learning/service/how-to-configure-environment).  If you are running in Azure Notebooks or another Microsoft managed environment, the SDK is already installed.\n\nAlso install following libraries to your environment. Many of the example notebooks depend on them\n\n```\n(myenv) $ conda install -y matplotlib tqdm scikit-learn\n```\n\nOnce installation is complete, check the Azure ML SDK version:"
    },
    {
      "metadata": {
        "trusted": true
      },
      "cell_type": "code",
      "source": "#!pip install azureml-sdk",
      "execution_count": 1,
      "outputs": []
    },
    {
      "metadata": {
        "tags": [
          "install"
        ],
        "trusted": true
      },
      "cell_type": "code",
      "source": "import azureml.core\nprint(\"Version Azure ML service :\", azureml.core.VERSION)",
      "execution_count": 2,
      "outputs": [
        {
          "output_type": "stream",
          "text": "Version Azure ML service : 1.0.2\n",
          "name": "stdout"
        }
      ]
    },
    {
      "metadata": {},
      "cell_type": "markdown",
      "source": "## 3. Azure ML service utilise ACI. Vérifier que la souscription permet d'utiliser ACI\nAzure Machine Learning makes use of Azure Container Instance (ACI). You need to ensure your subscription has been registered to use ACI in order be able to deploy a dev/test web service.  If you have run through the quickstart experience you have already performed this step.  Otherwise you will need to use the [Azure CLI](https://docs.microsoft.com/en-us/cli/azure/install-azure-cli?view=azure-cli-latest) and execute the following commands.\n\n```shell\n# check to see if ACI is already registered\n(myenv) $ az provider show -n Microsoft.ContainerInstance -o table\n\n# if ACI is not registered, run this command.\n# note you need to be the subscription owner in order to execute this command successfully.\n(myenv) $ az provider register -n Microsoft.ContainerInstance\n```"
    },
    {
      "metadata": {},
      "cell_type": "markdown",
      "source": "# II. Azure Machine Learning workspace\n\n## 2.1 Option 1 : vous avez déjà un workspace Azure ML service\nIf you ran the Azure Machine Learning [quickstart](https://docs.microsoft.com/en-us/azure/machine-learning/service/quickstart-get-started) in Azure Notebooks, you already have a configured workspace!  You can go to your Azure Machine Learning Getting Started library, view *config.json* file, and copy-paste the values for subscription ID, resource group and workspace name below.\n\nIf you have a workspace created another way, [these instructions](https://docs.microsoft.com/en-us/azure/machine-learning/service/how-to-configure-environment#create-workspace-configuration-file) describe how to get your subscription and workspace information.\n\nIf this cell succeeds, you're done configuring this library!  Otherwise continue to follow the instructions in the rest of the notebook."
    },
    {
      "metadata": {
        "trusted": true
      },
      "cell_type": "code",
      "source": "import os\n\nsubscription_id = os.environ.get(\"SUBSCRIPTION_ID\", \"A Comppléter\")\nresource_group = os.environ.get(\"RESOURCE_GROUP\", \"A Comppléter\")\nworkspace_name = os.environ.get(\"WORKSPACE_NAME\", \"A Comppléter\")",
      "execution_count": 3,
      "outputs": []
    },
    {
      "metadata": {
        "trusted": true
      },
      "cell_type": "code",
      "source": "from azureml.core import Workspace\n\ntry:\n   ws = Workspace(subscription_id = subscription_id, resource_group = resource_group, workspace_name = workspace_name)\n   ws.write_config()\n   print(\"Le workspace Azure ML service a été trouvé : OK\")\nexcept:\n   print(\"Le workspace Azure ML service n'a pas été trouvé\")",
      "execution_count": 4,
      "outputs": [
        {
          "output_type": "stream",
          "text": "Wrote the config file config.json to: /home/nbuser/library/aml_config/config.json\nLe workspace Azure ML service a été trouvé : OK\n",
          "name": "stdout"
        }
      ]
    },
    {
      "metadata": {
        "trusted": true
      },
      "cell_type": "code",
      "source": "",
      "execution_count": null,
      "outputs": []
    }
  ],
  "metadata": {
    "authors": [
      {
        "name": "roastala"
      }
    ],
    "kernelspec": {
      "name": "python36",
      "display_name": "Python 3.6",
      "language": "python"
    },
    "language_info": {
      "mimetype": "text/x-python",
      "nbconvert_exporter": "python",
      "name": "python",
      "pygments_lexer": "ipython3",
      "version": "3.6.6",
      "file_extension": ".py",
      "codemirror_mode": {
        "version": 3,
        "name": "ipython"
      }
    }
  },
  "nbformat": 4,
  "nbformat_minor": 2
}